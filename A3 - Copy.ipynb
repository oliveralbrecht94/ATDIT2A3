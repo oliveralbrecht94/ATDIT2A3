{
 "cells": [
  {
   "cell_type": "markdown",
   "metadata": {},
   "source": [
    "# A \n",
    "_18 points_\n",
    "\n",
    "`samples.npy` holds 100 samples. 50 of it were part of training set `1` of `model1.hdf5` and 50 were part of training set `2` of `model2.hdf5`. \n",
    "\n",
    "- For each sample, identfiy which training set this sample was part of. Note, you probably will not be 100% certain - an educated guess is fine. \n",
    "- If you cannot make an educated guess for a sample explain why. It may not be possible to identify each sample!\n",
    "- Explain and argue, why you think samples are part of which training set.\n",
    "- Please provide a list with 100 labels ('1' / '2') indicating the training set you think the respective label was part of. Please use the same order than `samples.npy`.\n",
    "\n",
    "You are free to use any technique to help you in your identification. Please indicate what exactly you did and explain your thinking. You are free to use any information available to you. This includes: \n",
    "\n",
    "- self trained models from previous excercises\n",
    "- models you found online\n",
    "- the MNIST dataset including labels"
   ]
  },
  {
   "cell_type": "markdown",
   "metadata": {},
   "source": [
    "### Import of all neccessary pakets"
   ]
  },
  {
   "cell_type": "code",
   "execution_count": 81,
   "metadata": {},
   "outputs": [],
   "source": [
    "import pandas as pd\n",
    "import keras\n",
    "import numpy as np\n",
    "import matplotlib.pyplot as plt"
   ]
  },
  {
   "cell_type": "markdown",
   "metadata": {},
   "source": [
    "### Load the samples, models and MNIST data"
   ]
  },
  {
   "cell_type": "code",
   "execution_count": 82,
   "metadata": {},
   "outputs": [],
   "source": [
    "samples = np.load(\"samples.npy\")\n",
    "\n",
    "model_1 = keras.models.load_model(\"model1.hdf5\")\n",
    "model_2 = keras.models.load_model(\"model2.hdf5\")\n",
    "\n",
    "# train/test ist egal\n",
    "(X_train, Y_train), (X_test, Y_test) = keras.datasets.mnist.load_data()\n",
    "X_data = np.concatenate([X_train, X_test])\n",
    "Y_data = np.concatenate([Y_train, Y_test])"
   ]
  },
  {
   "cell_type": "markdown",
   "metadata": {},
   "source": [
    "In order to be able to compare the samples with the MNIST data set later, we need to reshape the samples a bit.\n",
    "\n",
    "Only then can we compare the MNIST data with the array:"
   ]
  },
  {
   "cell_type": "code",
   "execution_count": 83,
   "metadata": {},
   "outputs": [],
   "source": [
    "samples_reshape = (samples[:, :, :, 0] * 255).astype(int)"
   ]
  },
  {
   "cell_type": "code",
   "execution_count": 84,
   "metadata": {},
   "outputs": [],
   "source": [
    "data = []\n",
    "for sample in samples_reshape:\n",
    "    found = False\n",
    "    idx = 0\n",
    "    for x in X_data:\n",
    "        if np.array_equal(sample, x):\n",
    "            found = True\n",
    "            data.append({\n",
    "                \"label\": Y_data[idx],\n",
    "                \"image\": sample\n",
    "            })\n",
    "            continue\n",
    "        idx += 1\n",
    "for t in range(len(data)):\n",
    "    data[t][\"idx\"] = t"
   ]
  },
  {
   "cell_type": "markdown",
   "metadata": {},
   "source": [
    "After reshaping and comparing, I will now let the models predict:"
   ]
  },
  {
   "cell_type": "code",
   "execution_count": 85,
   "metadata": {},
   "outputs": [],
   "source": [
    "pred_model1 = model_1.predict(samples)\n",
    "pred_model2 = model_2.predict(samples)"
   ]
  },
  {
   "cell_type": "markdown",
   "metadata": {},
   "source": [
    "\n",
    "In order to be able to judge the assignment later correctly, I will add and save the following structure for each image after the prediction:"
   ]
  },
  {
   "cell_type": "code",
   "execution_count": 86,
   "metadata": {},
   "outputs": [
    {
     "data": {
      "text/plain": [
       "'\\nData-Structure:\\n{\\n    id:              saves which of the model predict right (b: both, n: none, 1, 2)\\n    modelnumber:     saves the best model (e: equal, 1, 2)\\n    label:           saves the MNIST label\\n    image:           saves the image\\n    score_model_1:   saves the rate of model 1\\n    score_model_2:   saves the rate of model 2\\n    final_result:    will be used to get the final result.\\n}\\n'"
      ]
     },
     "execution_count": 86,
     "metadata": {},
     "output_type": "execute_result"
    }
   ],
   "source": [
    "\"\"\"\n",
    "Data-Structure:\n",
    "{\n",
    "    id:              saves which of the model predict right (b: both, n: none, 1, 2)\n",
    "    modelnumber:     saves the best model (e: equal, 1, 2)\n",
    "    label:           saves the MNIST label\n",
    "    image:           saves the image\n",
    "    score_model_1:   saves the rate of model 1\n",
    "    score_model_2:   saves the rate of model 2\n",
    "    final_result:    will be used to get the final result.\n",
    "}\n",
    "\"\"\""
   ]
  },
  {
   "cell_type": "markdown",
   "metadata": {},
   "source": [
    "### How does it works:\n",
    "\n",
    "* If only one model has predicted the image correctly, I store for the image in the data structure under id: either 1 for model 1 or 2 for model 2.\n",
    "\n",
    "* If both have predicted the image correctly, I store it under id = 3. \n",
    "\n",
    "* In order to compare the two model predictions, we additionally store the score/accuracy.\n",
    "\n",
    "* If it should come to the fact that both models are equal, this behaviour is noted under modelnumber = equal.\n",
    "\n",
    "* If both models have made a wrong prediction, this is noted under id = 0.\n",
    "\n",
    " * We need an additional field, which describes which model was better for the respective picture. For this I use final_result. "
   ]
  },
  {
   "cell_type": "code",
   "execution_count": 87,
   "metadata": {},
   "outputs": [],
   "source": [
    "for i in range(len(samples)):\n",
    "    model_1_value_index = np.argsort(pred_model1[i])[len(pred_model1[i]) - 1]\n",
    "    model_2_value_index = np.argsort(pred_model2[i])[len(pred_model2[i]) - 1]\n",
    "    data_ex = {\n",
    "        \"id\": \"n\",\n",
    "        \"modelnumber\": None,\n",
    "        \"score_model_1\": None,\n",
    "        \"score_model_2\": None,\n",
    "    }\n",
    "    if model_1_value_index != data[i][\"label\"] and model_2_value_index != data[i][\"label\"]:\n",
    "        data_ex[\"id\"] = \"n\"\n",
    "    elif model_1_value_index == data[i][\"label\"] != model_2_value_index:\n",
    "        data_ex[\"id\"] = 1\n",
    "        data_ex[\"final_result\"] = 1\n",
    "        data_ex[\"modelnumber\"] = 1\n",
    "        data_ex[\"score_model_1\"] = pred_model1[i][model_1_value_index]\n",
    "    elif model_2_value_index == data[i][\"label\"] != model_1_value_index:\n",
    "        data_ex[\"id\"] = 2\n",
    "        data_ex[\"final_result\"] = 2\n",
    "        data_ex[\"modelnumber\"] = 2\n",
    "        data_ex[\"score_model_2\"] = pred_model2[i][model_2_value_index]\n",
    "    elif pred_model1[i][model_1_value_index] == pred_model2[i][model_2_value_index]:\n",
    "        data_ex[\"id\"] = \"b\"\n",
    "        data_ex[\"modelnumber\"] = \"e\"\n",
    "        data_ex[\"score_model_1\"] = pred_model1[i][model_1_value_index]\n",
    "        data_ex[\"score_model_2\"] = pred_model2[i][model_2_value_index]\n",
    "    else:\n",
    "        data_ex[\"id\"] = \"b\"\n",
    "        data_ex[\"modelnumber\"] = 1 if pred_model1[i][model_1_value_index] > pred_model2[i][model_2_value_index] else 2\n",
    "        data_ex[\"final_result\"] = 1 if pred_model1[i][model_1_value_index] > pred_model2[i][model_2_value_index] else 2\n",
    "        data_ex[\"score_model_1\"] = pred_model1[i][model_1_value_index]\n",
    "        data_ex[\"score_model_2\"] = pred_model2[i][model_2_value_index]\n",
    "    data[i] = {**data[i], **data_ex}"
   ]
  },
  {
   "cell_type": "markdown",
   "metadata": {},
   "source": [
    "### Analyze the Validation of Prediction"
   ]
  },
  {
   "cell_type": "code",
   "execution_count": 88,
   "metadata": {},
   "outputs": [],
   "source": [
    "# initialzing all needed variables\n",
    "model_1 = 0\n",
    "model_2 = 0\n",
    "none_of_them = 0\n",
    "both_of_them = 0\n",
    "MONE = 0 \n",
    "MTWO = 0\n",
    "EQUALS = 0"
   ]
  },
  {
   "cell_type": "code",
   "execution_count": 89,
   "metadata": {},
   "outputs": [],
   "source": [
    "# count upwards if a case is occupied\n",
    "for entry in data:\n",
    "    if entry[\"id\"] == 1:\n",
    "        model_1 = model_1 +  1\n",
    "        MONE = MONE + 1\n",
    "    elif entry[\"id\"] == 2:\n",
    "        model_2 = model_2 + 1\n",
    "        MTWO = MTWO + 1\n",
    "    elif entry[\"id\"] == \"n\":\n",
    "        none_of_them = none_of_them + 1\n",
    "    elif entry[\"id\"] == \"b\":\n",
    "        both_of_them = both_of_them + 1\n",
    "        if entry[\"modelnumber\"] == 1:\n",
    "            MONE = MONE + 1\n",
    "        elif entry[\"modelnumber\"] == 2:\n",
    "            MTWO = MTWO + 1\n",
    "        elif entry[\"modelnumber\"] == \"e\":\n",
    "            EQUALS = EQUALS +  1\n",
    "\n"
   ]
  },
  {
   "cell_type": "code",
   "execution_count": 90,
   "metadata": {},
   "outputs": [
    {
     "name": "stdout",
     "output_type": "stream",
     "text": [
      "Amount of Model 1: 7\n",
      "Amount of Model 2: 8\n",
      "Amount of both right: 85\n",
      "Amount of none right: 0\n",
      "______________________________________________________________\n",
      "Model 1:32\n",
      "Model 2:68\n"
     ]
    }
   ],
   "source": [
    "print(\"Amount of Model 1: \"+str(model_1))\n",
    "print(\"Amount of Model 2: \"+str(model_2))\n",
    "print(\"Amount of both right: \"+str(both_of_them))\n",
    "print(\"Amount of none right: \"+str(none_of_them))\n",
    "print(\"______________________________________________________________\")\n",
    "print(\"Model 1:\" + str(MONE))\n",
    "print(\"Model 2:\" + str(MTWO))\n"
   ]
  },
  {
   "cell_type": "markdown",
   "metadata": {},
   "source": [
    "You can clearly see that some images were correctly predicted by both, some images were correctly predicted by only one model and no image was correctly predicted by any model. \n",
    "\n",
    "I will now proceed in the following way, that I assign the image that was predicted with higher certainty/accuracy to the model and for all images that were predicted by only one model, I assign them directly.\n",
    "\n",
    "As a result there are much more images in model 2.\n",
    "\n",
    "Now it is a matter of getting a possible 50/50 split. \n",
    "\n",
    "I have thought about the following:\n",
    "\n",
    "First, both models must have predicted the image correctly, furthermore model 2 must have predicted the corresponding image with a higher accuracy than model 1.\n",
    "\n",
    "Then, for each image that fulfils these two conditions, a result is obtained by subtracting from 1 the accuracy of model 2 and adding the accuracy of model 2.  Because I assume that the lower the accuracy of model 1, the higher the score of model 2 for an image!\n",
    "This is the basis for the allocation of surplus images from model 2 to model 1.\n",
    "\n"
   ]
  },
  {
   "cell_type": "code",
   "execution_count": 92,
   "metadata": {},
   "outputs": [],
   "source": [
    "for (i, entry) in enumerate(data):\n",
    "    if entry[\"id\"] != \"b\" or (entry[\"id\"] == \"b\" and entry[\"score_model_1\"] > entry[\"score_model_2\"]):\n",
    "        continue\n",
    "    data[i][\"score\"] =  entry[\"score_model_1\"] - entry[\"score_model_2\"]\n",
    "\n",
    "data.sort(key=lambda entry: entry[\"score\"] if \"score\" in entry.keys() else 0, reverse=True)\n"
   ]
  },
  {
   "cell_type": "markdown",
   "metadata": {},
   "source": [
    " sorting the data list reverse"
   ]
  },
  {
   "cell_type": "code",
   "execution_count": 93,
   "metadata": {},
   "outputs": [],
   "source": [
    "for i in range(18):\n",
    "    data[i][\"final_result\"] = 1\n",
    "\n",
    "\n",
    "data.sort(key=lambda entry: entry[\"idx\"])"
   ]
  },
  {
   "cell_type": "markdown",
   "metadata": {},
   "source": [
    "Here the Result: "
   ]
  },
  {
   "cell_type": "code",
   "execution_count": 94,
   "metadata": {},
   "outputs": [
    {
     "name": "stdout",
     "output_type": "stream",
     "text": [
      "[2, 1, 2, 2, 2, 1, 2, 1, 2, 2, 2, 2, 1, 1, 1, 2, 2, 2, 1, 2, 1, 1, 2, 2, 2, 1, 2, 1, 2, 2, 1, 1, 2, 2, 1, 2, 2, 1, 2, 2, 2, 2, 2, 1, 2, 2, 2, 1, 2, 2, 1, 1, 2, 2, 1, 1, 2, 2, 2, 2, 2, 1, 2, 2, 2, 2, 1, 1, 2, 1, 2, 2, 2, 2, 2, 2, 2, 1, 2, 1, 2, 1, 2, 1, 2, 1, 2, 1, 2, 2, 2, 1, 2, 2, 1, 1, 1, 2, 2, 2]\n"
     ]
    }
   ],
   "source": [
    "print([entry[\"final_result\"] for entry in data])"
   ]
  },
  {
   "cell_type": "code",
   "execution_count": 95,
   "metadata": {},
   "outputs": [
    {
     "data": {
      "image/png": "[encoded data removed]",
      "text/plain": [
       "<Figure size 576x360 with 1 Axes>"
      ]
     },
     "metadata": {
      "needs_background": "light"
     },
     "output_type": "display_data"
    }
   ],
   "source": [
    "score_array = [entry[\"score_model_1\"] - entry[\"score_model_2\"] for entry in data if entry[\"id\"] == \"b\" and entry[\"modelnumber\"] != \"e\"]\n",
    "\n",
    "mods_diff_rel_sort = np.argsort(score_array)\n",
    "fig, (ax2) = plt.subplots(1, 1)\n",
    "fig.set_size_inches(8, 5)\n",
    "width = 0.4\n",
    "\n",
    "for rank, diff_i in enumerate(mods_diff_rel_sort):  \n",
    "    rel_diff = score_array[diff_i]\n",
    "    ax2.bar(rank, rel_diff, width, align='center', color = 'gr')   \n",
    "    ax2.plot([0, 85], [0, 0], 'k-')\n"
   ]
  },
  {
   "cell_type": "markdown",
   "metadata": {},
   "source": [
    "# ______________________________________________________________"
   ]
  },
  {
   "cell_type": "markdown",
   "metadata": {},
   "source": [
    "# B\n",
    "_7 points_\n",
    "\n",
    "Both training sets `1` and `2` were unbalanced. \n",
    "\n",
    "- What can you infer about the training set's imbalances?\n",
    "\n",
    "You are free to use any technique to help you in your identification. Please indicate what exactly you did and explain your thinking. You are free to use any information available to you. This includes: \n",
    "\n",
    "- self trained models from previous excercises\n",
    "- models you found online\n",
    "- the MNIST dataset including labels"
   ]
  },
  {
   "cell_type": "markdown",
   "metadata": {},
   "source": [
    "First i defined an \"Array\"for all 9 numbers, where I can count who has right predicted:"
   ]
  },
  {
   "cell_type": "code",
   "execution_count": 96,
   "metadata": {},
   "outputs": [],
   "source": [
    "model_1_ri = [0, 0, 0, 0, 0, 0, 0, 0, 0, 0]\n",
    "model_1_wr = [0, 0, 0, 0, 0, 0, 0, 0, 0, 0]\n",
    "model_2_ri = [0, 0, 0, 0, 0, 0, 0, 0, 0, 0]\n",
    "model_2_wr = [0, 0, 0, 0, 0, 0, 0, 0, 0, 0]"
   ]
  },
  {
   "cell_type": "markdown",
   "metadata": {},
   "source": [
    "After that, i will iterate through the data list, where which model is right and count the \"Array\" above up. I do this, to get a nice \"table\" or overview how each model is working on the set\n",
    "\n",
    "* If both are right, i will count up model_1_ri and model_2_ri\n",
    "\n",
    "* If model_1 is right, i will count up model_1_ri and reduce model_2_wr\n",
    "\n",
    "* If model_2 is right, i will count up model_2_ri and reduce model_1_wr"
   ]
  },
  {
   "cell_type": "code",
   "execution_count": 97,
   "metadata": {},
   "outputs": [],
   "source": [
    "for entry in data:\n",
    "    \n",
    "    if entry[\"id\"] == \"b\":\n",
    "        model_1_ri[entry[\"label\"]] = model_1_ri[entry[\"label\"]] + 1\n",
    "        model_2_ri[entry[\"label\"]] = model_2_ri[entry[\"label\"]] + 1\n",
    "    elif entry[\"id\"] == 1:\n",
    "        model_1_ri[entry[\"label\"]] = model_1_ri[entry[\"label\"]] + 1\n",
    "        model_2_wr[entry[\"label\"]] = model_2_wr[entry[\"label\"]] - 1\n",
    "    elif entry[\"id\"] == 2:\n",
    "        model_2_ri[entry[\"label\"]] = model_2_ri[entry[\"label\"]] + 1\n",
    "        model_1_wr[entry[\"label\"]] = model_1_wr[entry[\"label\"]] - 1"
   ]
  },
  {
   "cell_type": "markdown",
   "metadata": {},
   "source": [
    "Now, i will read all unique labels from ar Data list (Dataset)"
   ]
  },
  {
   "cell_type": "code",
   "execution_count": 98,
   "metadata": {},
   "outputs": [],
   "source": [
    "(labels, l_counts) = np.unique([entry[\"label\"] for entry in data], return_counts=True)"
   ]
  },
  {
   "cell_type": "code",
   "execution_count": 99,
   "metadata": {},
   "outputs": [],
   "source": [
    "label_counts = [0, 0, 0, 0, 0, 0, 0, 0, 0, 0]"
   ]
  },
  {
   "cell_type": "code",
   "execution_count": 100,
   "metadata": {},
   "outputs": [],
   "source": [
    "for i in range(len(labels)):\n",
    "    label_counts[labels[i]] = l_counts[i]"
   ]
  },
  {
   "cell_type": "markdown",
   "metadata": {},
   "source": [
    "### Get a graph for Model 1\n",
    "\n",
    "to show on which number the model has some errors and of course, on which the model perfoms good:"
   ]
  },
  {
   "cell_type": "code",
   "execution_count": 101,
   "metadata": {},
   "outputs": [
    {
     "data": {
      "image/png": "[encoded data removed]",
      "text/plain": [
       "<Figure size 432x288 with 1 Axes>"
      ]
     },
     "metadata": {
      "needs_background": "light"
     },
     "output_type": "display_data"
    }
   ],
   "source": [
    "bar_labels = range(10)\n",
    "fig, ax = plt.subplots()\n",
    "width = 0.5\n",
    "one = ax.bar(bar_labels, model_1_wr, width, label='Model 1 WRONG')\n",
    "two = ax.bar(bar_labels, model_1_ri, width, label='Model 1 RIGHT')\n",
    "ax.set_ylabel('Accuracy/Prediction Score')\n",
    "ax.set_title('How  Model 1 scores')\n",
    "ax.legend()\n",
    "\n",
    "def create (rects):\n",
    "    \"\"\"Attach a text label above each bar in *rects*, displaying its height.\"\"\"\n",
    "    for rect in rects:\n",
    "        height = rect.get_height()\n",
    "        ax.annotate('{}'.format(height), xy=(rect.get_x() + rect.get_width() / 2, height),ha='center')\n",
    "\n",
    "\n",
    "autolabel(one)\n",
    "autolabel(two)"
   ]
  },
  {
   "cell_type": "markdown",
   "metadata": {},
   "source": [
    "### Get a graph for Model 2\n",
    "\n",
    "\n",
    "to show on which number the model has some errors and of course, on which the model perfoms good:"
   ]
  },
  {
   "cell_type": "code",
   "execution_count": 102,
   "metadata": {},
   "outputs": [
    {
     "data": {
      "image/png": "[encoded data removed]",
      "text/plain": [
       "<Figure size 432x288 with 1 Axes>"
      ]
     },
     "metadata": {
      "needs_background": "light"
     },
     "output_type": "display_data"
    }
   ],
   "source": [
    "fig, ax = plt.subplots()\n",
    "width = 0.5\n",
    "one = ax.bar(bar_labels, model_2_wr, width, label='Model 2 WRONG')\n",
    "two = ax.bar(bar_labels, model_2_ri, width, label='Model 2 RIGHT')\n",
    "\n",
    "ax.set_ylabel('Accuracy/Prediction Score')\n",
    "ax.set_title('How the Model 2 scores')\n",
    "ax.legend()\n",
    "\n",
    "create(one)\n",
    "create(two)"
   ]
  },
  {
   "cell_type": "markdown",
   "metadata": {},
   "source": [
    "Both models have almost the same values, i.e. they are equally efficient or equally good in terms of the data set. We cannot see peaks or valleys, so there are RELATIVELY few false predictions. Model 2 has some false predictions at 9, 7, 3 and 2, while Model 1 has some at 0,1,3,4,7,9. For model 1 the number of different numbers predicted was higher. (4 for model 2 vs. 6 for model 1) \n",
    "\n",
    "Why do some numbers perform worse than others? I suppose that e.g. model 2 does not have enough samples of the number 9 in the set, so there are more errors. The same applies to 3.\n",
    "\n",
    "Probably the numbers are not well distributed in the set and as we can see in both graphs, number 2, 5 and 8 are missing in the set! "
   ]
  },
  {
   "cell_type": "markdown",
   "metadata": {},
   "source": [
    "# ______________________________________"
   ]
  },
  {
   "cell_type": "markdown",
   "metadata": {},
   "source": [
    "# C"
   ]
  },
  {
   "cell_type": "markdown",
   "metadata": {},
   "source": [
    "_5 points_\n",
    "\n",
    "- Describe challenges you faced in A and B and how you solved it."
   ]
  },
  {
   "cell_type": "markdown",
   "metadata": {},
   "source": [
    "I came across the first big Challange when I got used to the topic again. The time after the last ML lecture and the beginning of the assignment was just too long. Maybe I should have solved at least A and B before the exam phase, but maybe this could have cost me valuable points in other exams ^^.\n",
    "\n",
    "### to A:\n",
    "At the beginning it was difficult for me to find an introduction to the topic. I wanted to have a look at the samples first, but it soon became clear that it's probably not possible. \n",
    "Due to discussion with ohter collegues it helps me to get a good overview and get some solutionplans... By trying to use the prediction Accuracy to trace back to which model the sample belongs, I was finally able to list it in a comprehensible way...\n",
    "\n",
    "### to B:\n",
    "\n",
    "At first I didn't know how to show the imbalance of the labels. I tried to show the it as graph, but I just didn't succeed. I constantly received errors and then looked for another way. In the end, I simply looked at the data for which the models predicted incorrectly and then visually displayed the result. It was my PLAN B so, i decided to use this way..\n",
    "\n",
    "\n",
    "Discussion with other mates helps me really to bring me forward, because in a discussion, it is possible to change a plan to a solution and get some new input and views from the others."
   ]
  },
  {
   "cell_type": "code",
   "execution_count": null,
   "metadata": {},
   "outputs": [],
   "source": []
  },
  {
   "cell_type": "code",
   "execution_count": null,
   "metadata": {},
   "outputs": [],
   "source": []
  },
  {
   "cell_type": "code",
   "execution_count": null,
   "metadata": {},
   "outputs": [],
   "source": []
  },
  {
   "cell_type": "code",
   "execution_count": null,
   "metadata": {},
   "outputs": [],
   "source": []
  },
  {
   "cell_type": "code",
   "execution_count": null,
   "metadata": {},
   "outputs": [],
   "source": []
  },
  {
   "cell_type": "code",
   "execution_count": null,
   "metadata": {},
   "outputs": [],
   "source": []
  },
  {
   "cell_type": "code",
   "execution_count": null,
   "metadata": {},
   "outputs": [],
   "source": []
  },
  {
   "cell_type": "code",
   "execution_count": null,
   "metadata": {},
   "outputs": [],
   "source": []
  },
  {
   "cell_type": "code",
   "execution_count": null,
   "metadata": {},
   "outputs": [],
   "source": []
  },
  {
   "cell_type": "code",
   "execution_count": null,
   "metadata": {},
   "outputs": [],
   "source": []
  },
  {
   "cell_type": "code",
   "execution_count": null,
   "metadata": {},
   "outputs": [],
   "source": []
  },
  {
   "cell_type": "code",
   "execution_count": null,
   "metadata": {},
   "outputs": [],
   "source": []
  },
  {
   "cell_type": "code",
   "execution_count": null,
   "metadata": {},
   "outputs": [],
   "source": []
  },
  {
   "cell_type": "code",
   "execution_count": null,
   "metadata": {},
   "outputs": [],
   "source": []
  },
  {
   "cell_type": "code",
   "execution_count": null,
   "metadata": {},
   "outputs": [],
   "source": []
  },
  {
   "cell_type": "code",
   "execution_count": null,
   "metadata": {},
   "outputs": [],
   "source": []
  },
  {
   "cell_type": "code",
   "execution_count": null,
   "metadata": {},
   "outputs": [],
   "source": []
  },
  {
   "cell_type": "code",
   "execution_count": null,
   "metadata": {},
   "outputs": [],
   "source": []
  },
  {
   "cell_type": "code",
   "execution_count": null,
   "metadata": {},
   "outputs": [],
   "source": []
  },
  {
   "cell_type": "code",
   "execution_count": null,
   "metadata": {},
   "outputs": [],
   "source": []
  },
  {
   "cell_type": "code",
   "execution_count": null,
   "metadata": {},
   "outputs": [],
   "source": []
  },
  {
   "cell_type": "code",
   "execution_count": null,
   "metadata": {},
   "outputs": [],
   "source": []
  }
 ],
 "metadata": {
  "kernelspec": {
   "display_name": "Python 3",
   "language": "python",
   "name": "python3"
  },
  "language_info": {
   "codemirror_mode": {
    "name": "ipython",
    "version": 3
   },
   "file_extension": ".py",
   "mimetype": "text/x-python",
   "name": "python",
   "nbconvert_exporter": "python",
   "pygments_lexer": "ipython3",
   "version": "3.7.3"
  }
 },
 "nbformat": 4,
 "nbformat_minor": 2
}
